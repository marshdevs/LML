{
 "cells": [
  {
   "cell_type": "markdown",
   "metadata": {},
   "source": [
    "# Week 1 - Notes\n",
    "\n",
    "---\n",
    "\n",
    "## Parameter Learning - _Gradient Descent_\n",
    "\n",
    "**Problem setup:**\n",
    "\n",
    "We have some function J(&theta;<sub>0</sub>, &theta;<sub>1</sub>)\n",
    "\n",
    "We want min<sub>&theta;<sub>0</sub>, &theta;<sub>1</sub></sub>  J(&theta;<sub>0</sub>, &theta;<sub>1</sub>)\n",
    "\n",
    "**Algorithm:** \n",
    "1. Start with some initial guess for &theta;<sub>0</sub>, &theta;<sub>1</sub>. (Traditionally &theta;<sub>0</sub> = 0, &theta;<sub>1</sub> = 0). \n",
    "2. Keep changing &theta;<sub>0</sub>, &theta;<sub>1</sub> slightly to reduce J(&theta;<sub>0</sub>, &theta;<sub>1</sub>) and eventually reach the minimum.\n",
    "\n",
    "### 1. Intuition of gradient descent\n",
    "\n",
    "![Gradient descent intuition](https://i.imgur.com/T1S6CwS.png)\n",
    "\n",
    "This is a depiction of a cost function J(&theta;<sub>0</sub>, &theta;<sub>1</sub>) over two features.\n",
    "\n",
    "Imagine this function is a physical landscape, and you are standing on top of one of the red hills. Gradient descent says: \n",
    "\n",
    "> \"I want to get to the bottom of the deepest valley as quickly as possible. If I have to take a single step in some direction, which direction takes me there as quickly as possible?\"\n",
    "\n",
    "Then repeat, and repeat, until you reach a _local minimum_.\n",
    "\n",
    "Gradient descent has an interesting property: there is an element of randomness to it, because the local minimum at which it concludes depends on where it begins.\n",
    "\n",
    "\n",
    "### 2. Formally: gradient descent\n",
    "\n",
    "![Gradient descent algorithm](https://i.imgur.com/WgbuKZT.png)\n",
    "\n",
    "Where\n",
    "\n",
    "* := represents assignment (not a truth assertion)\n",
    "* &alpha; = learning rate (if alpha is large, gradient descent is aggressive, and visa versa). This term controls \"how big of a step\" we will take toward the local minima\n",
    "* {derivative term} = The partial derivative (**_FOC - First Order Condition_**) of the cost function J(&theta;<sub>0</sub>, &theta;<sub>1</sub>) with respect to &theta;<sub>j</sub>\n",
    "\n",
    "Every iteration, &theta;<sub>j</sub> will move slightly toward the local minimum (proportial to &alpha;). As J(&theta;<sub>0</sub>, &theta;<sub>1</sub>) approaches a local minimum, gradient descent will change  &theta;<sub>j</sub> by smaller and smaller amounts until it stops changing it at all (because, at a local minimum, the FOC of J(&theta;<sub>0</sub>, &theta;<sub>1</sub>) = 0).\n",
    "\n",
    "Again, gradient descent automatically takes smaller and smaller steps as it approaches a local minimum, so there is no need to decrease the learning rate &alpha;.\n",
    "\n",
    "It's important to note that the assignments to &theta;<sub>0</sub>, &theta;<sub>1</sub> are intended to be _simultaneous updates_, i.e.\n",
    "\n",
    "```Python\n",
    "temp0 = theta0 - a * {derivative term} * J(theta0, theta1)\n",
    "temp1 = theta1 - a * {derivative term} * J(theta0, theta1)\n",
    "theta0 = temp0\n",
    "theta1 = temp1\n",
    "```\n",
    "\n",
    "The learning rate &alpha; controls how quickly gradient descent moves toward the local minima. If &alpha; is too small, gradient descent can be slow. If &alpha; is too large, gradient descent can overshoot the minimum (and fail to converge, or even diverge). \n",
    "\n",
    "A small &alpha; will find the minimum most accurately, but, in practice, a small alpha will be too slow for productionized applications of gradient descent.\n",
    "\n",
    "---"
   ]
  },
  {
   "cell_type": "markdown",
   "metadata": {},
   "source": [
    "### 3. Applying gradient descent to regression\n",
    "\n",
    "Now we will apply gradient descent to the linear regression's squared error cost function.\n",
    "\n",
    "h<sub>&theta;</sub>(x) = &theta;<sub>o</sub> x + &theta;<sub>1</sub>x\n",
    "\n",
    "J(&theta;<sub>o</sub>, &theta;<sub>1</sub>) = 1 / 2m &Sigma;( h<sub>&theta;</sub>(x<sub>(i)</sub>) - y<sub>(i)</sub> )<sup>2</sup>\n",
    "\n",
    "J(&theta;<sub>o</sub>, &theta;<sub>1</sub>) = 1 / 2m &Sigma;( &theta;<sub>o</sub> x + &theta;<sub>1</sub>x - y<sub>(i)</sub> )<sup>2</sup>\n",
    "\n",
    "The derivative terms of gradient descent given the above J(&theta;<sub>o</sub>, &theta;<sub>1</sub>) for j = 0,1 are the following:\n",
    "\n",
    "![FOCs gradient descent](https://i.imgur.com/5MthAqm.png)\n",
    "\n",
    "Then, after plugging those into the gradient descent algorithm:\n",
    "\n",
    "![Gradient descent algorithm](https://i.imgur.com/XIBpkfO.png)\n",
    "\n",
    "This gradient descent algorithm is called **Batch gradient descent**, since, in every step of the algorithm, we end up computing over the entire training set in every iteration of the algorithm.\n",
    "\n",
    "---"
   ]
  },
  {
   "cell_type": "code",
   "execution_count": 6,
   "metadata": {},
   "outputs": [],
   "source": [
    "# Python implementation of the linear regression algorithm using\n",
    "# batch gradient descent\n",
    "# Input: Training set, (x, y)\n",
    "#        a, learning rate\n",
    "#        n, convergence criteria\n",
    "# Output: (theta_0, theta_1), parameters of J such that\n",
    "#         J(theta_0, theta_1) is at a global minimum\n",
    "def linear_regression(x, y, a, n):\n",
    "    m = len(x)\n",
    "    theta_0 = 0\n",
    "    theta_1 = 0\n",
    "    \n",
    "    while True:\n",
    "        theta_0_sum = 0\n",
    "        theta_1_sum = 0\n",
    "        for i in range(m):\n",
    "            theta_0_sum += (theta_0 * x[i] + theta_1 * x[i]) - y[i]\n",
    "            theta_1_sum += (theta_0 * x[i] + theta_1 * x[i] - y[i]) * x[i]\n",
    "        if (abs(theta_0_sum) < n and abs(theta_1_sum) < n):\n",
    "            break\n",
    "        else:\n",
    "            theta_0 = theta_0 - (a / m) * theta_0_sum\n",
    "            theta_1 = theta_1 - (a / m) * theta_1_sum\n",
    "    \n",
    "    return theta_0, theta_1\n"
   ]
  },
  {
   "cell_type": "markdown",
   "metadata": {},
   "source": [
    "---\n",
    "\n",
    "### Q:\n",
    "\n",
    "> Do we need to worry about reaching the wrong local minimum for linear regression?\n",
    "\n",
    "**_No_**. Gradient descent for linear regression always converges to the global minimum, because the cost functions of all linear regressions form a smooth, distinct bow shape (only a single local minimum, the global minimum).\n",
    "\n",
    "> Isn't there any easier way to solve a linear regression than gradient descent?\n",
    "\n",
    "**_Yes_**. There is a simpler mathematic way to find the global minimum of a linear regression cost function. However, it is good to learn gradient descent because of its applications in other machine learning algorithms. Plus, gradient descent _does_ solve the linear regression problem better than other methods at scale."
   ]
  },
  {
   "cell_type": "code",
   "execution_count": 16,
   "metadata": {},
   "outputs": [
    {
     "name": "stdout",
     "output_type": "stream",
     "text": [
      "(0.2736639139907445, 4.515817601382843)\n"
     ]
    }
   ],
   "source": [
    "# Testing the linear regression algorithm\n",
    "\n",
    "x = [20, 16, 19.79999924, 18.39999962, 17.10000038, 15.5, 14.69999981, 17.10000038, 15.39999962, 16.20000076, 15, 17.20000076, 16, 17, 14.39999962]\n",
    "y = [88.59999847, 71.59999847, 93.30000305, 84.30000305, 80.59999847, 75.19999695, 69.69999695, 82, 69.40000153, 83.30000305, 79.59999847, 82.59999847, 80.59999847, 83.5, 76.30000305]\n",
    "a = .001\n",
    "n = 10\n",
    "\n",
    "print (linear_regression(x, y, a, n))"
   ]
  },
  {
   "cell_type": "code",
   "execution_count": 15,
   "metadata": {},
   "outputs": [
    {
     "data": {
      "image/png": "[encoded data removed]",
      "text/plain": [
       "<matplotlib.figure.Figure at 0x104d8ae10>"
      ]
     },
     "metadata": {},
     "output_type": "display_data"
    }
   ],
   "source": [
    "%matplotlib inline\n",
    "import matplotlib.pyplot as plt\n",
    "import numpy as np\n",
    "\n",
    "fn_x = np.linspace(10, 25, 100)\n",
    "\n",
    "plt.plot(x, y, 'bo')\n",
    "plt.plot(fn_x, 0.2737 + 4.5158 * fn_x, 'purple')\n",
    "plt.xlabel(\"Cricket chirps\")\n",
    "plt.ylabel(\"Temperature\")\n",
    "plt.show()"
   ]
  },
  {
   "cell_type": "code",
   "execution_count": null,
   "metadata": {},
   "outputs": [],
   "source": []
  }
 ],
 "metadata": {
  "kernelspec": {
   "display_name": "Python 2",
   "language": "python",
   "name": "python2"
  },
  "language_info": {
   "codemirror_mode": {
    "name": "ipython",
    "version": 2
   },
   "file_extension": ".py",
   "mimetype": "text/x-python",
   "name": "python",
   "nbconvert_exporter": "python",
   "pygments_lexer": "ipython2",
   "version": "2.7.10"
  }
 },
 "nbformat": 4,
 "nbformat_minor": 2
}
