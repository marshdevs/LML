{
 "cells": [
  {
   "cell_type": "markdown",
   "metadata": {},
   "source": [
    "# Week 3 - Notes\n",
    "\n",
    "---\n",
    "\n",
    "## Solving the problem of overfitting\n",
    "\n",
    "**Overfitting:** If we have too many features, the learned hypothesis may fit the learned training set very well, but fail to generalize well for new examples.\n",
    "\n",
    "**Addressing overfitting:**\n",
    "- Reduce the number of features by either manually selecting, or employing a model-selection algorithm. But throwing away features means throwing away information, and we may not want to throw any information away.\n",
    "- _Regulatization:_ Keep all the features, but reduce the magnitude/values of parameters &theta;<sub>j</sub>. This works well when we have a lot of features, with each one contributing a little bit to the output y.\n",
    "\n",
    "## Regularization cost function\n",
    "\n",
    "The idea behind regularization is to have smaller values for all &theta;<sub>j</sub>, for a \"simpler\" hypothesis that is less prone to overfitting.\n",
    "\n",
    "Modify the cost function J(&theta;) to shrink all parameters &theta;<sub>j</sub>.\n",
    "\n",
    "J(&theta;) = J(&theta;) + &lambda;SUM(&theta;<sub>j</sub><sup>2</sup>) where &lambda; = **regularization parameter**, a number that controls the tradeoff between fitting the training set well and also generalizing well for new data.\n",
    "\n",
    "![lambda](https://i.imgur.com/PALIrIp.png)\n",
    "\n",
    "If &lambda; is too large, we penalize all the parameters too heavily and end up with a model that does not fit the training set well (results in **underfitting**). The regularization parameter should be carefully chosen. There are ways to automatically choose &lambda;."
   ]
  },
  {
   "cell_type": "markdown",
   "metadata": {},
   "source": [
    "---\n",
    "\n",
    "## Regularized linear regression\n",
    "\n",
    "**Gradient descent:**\n",
    "![Imgur](https://i.imgur.com/OKq9Mhw.png)\n",
    "\n",
    "**Normal Equation:**\n",
    "![Imgur](https://i.imgur.com/1CUKEnl.png)\n",
    "\n",
    "---\n",
    "\n",
    "## Regularized logistic regression\n",
    "\n",
    "**Cost function:**\n",
    "![Imgur](https://i.imgur.com/q6MHsye.png)\n"
   ]
  },
  {
   "cell_type": "code",
   "execution_count": null,
   "metadata": {},
   "outputs": [],
   "source": []
  }
 ],
 "metadata": {
  "kernelspec": {
   "display_name": "Python 2",
   "language": "python",
   "name": "python2"
  },
  "language_info": {
   "codemirror_mode": {
    "name": "ipython",
    "version": 2
   },
   "file_extension": ".py",
   "mimetype": "text/x-python",
   "name": "python",
   "nbconvert_exporter": "python",
   "pygments_lexer": "ipython2",
   "version": "2.7.13"
  }
 },
 "nbformat": 4,
 "nbformat_minor": 2
}
