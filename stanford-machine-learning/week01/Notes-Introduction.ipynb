{
 "cells": [
  {
   "cell_type": "markdown",
   "metadata": {},
   "source": [
    "# Week 1 - Notes\n",
    "\n",
    "---\n",
    "\n",
    "# Introduction\n",
    "\n",
    "> _Machine learning: the field of study that gives computers the ability to learn without being explicitly programmed._ - Arthur Samuel (1959)\n",
    "\n",
    "**Example:**\n",
    "The traditional, algorithmic approach to solving problems \n",
    "(1) begins with clearly identified inputs and outputs and\n",
    "(2) relies upon the **deterministic** nature of those inputs and outputs.\n",
    "\n",
    "**_I.E:_** I have a function _f(x)_, which maps all possible members of the input x to some output, y. _f(x)_ is **deterministic**, meaning that, if (x_1 == x_100), the function returns the same value after its first iteration as after its 100th iteration.\n",
    "\n",
    "With machine learning, we are searching for an alternative problem solving approach, one that does not rely on a deterministic relationship between x -> f(x). After 100 iterations, our function knows more about the problem than it did after its first, meaning it may respond differently over the same inputs.\n",
    "\n",
    "> _Well-posed Learning Problem: A computer program is said to learn from experience E with respect to some task T and some performance measure P, if its performance on T, as measured by P, improves with experience E._ - Tom Mitchell (1998)\n",
    "\n",
    "**Example:** Playing checkers\n",
    "E = The Experience, _playing many games of checkers_\n",
    "T = The Task, _playing a single game of checkers_\n",
    "P = The Probability _that the program will win the next game of checkers_\n",
    "\n",
    "A checkers-playing program is a machine learning program if it gets better at the task T _(playing a single game of checkers)_ as measured by P _(the probability that the program will win)_ after the experience E _(playing many games of checkers)_.\n",
    "\n",
    "## Machine learning algorithms\n",
    "* **Supervised learning**\n",
    "* **Unsupervised learning**\n",
    "* Reinforcement learning\n",
    "* Recommender systems\n",
    "\n",
    "---"
   ]
  },
  {
   "cell_type": "markdown",
   "metadata": {},
   "source": [
    "### 1. Supervised learning\n",
    "\n",
    "The algorithm is trained on a dataset where the \"right answers\" are given. The algorithm is then tasked with predicting the right answers from new data.\n",
    "\n",
    "Supervised learning algorithms include:\n",
    "\n",
    "### Regression (linear, quadratic, ...)\n",
    "\n",
    "**Example:** Given a factor (size in feet^2), try to predict the sale price of a house on the market.\n",
    "![Regression](https://i.imgur.com/z5RulyB.png)\n",
    "\n",
    "\n",
    "### Classification (discrete valued output)\n",
    "\n",
    "**Example:** Given some feature(s), classify a tumor as benign or malignant\n",
    "\n",
    "* **Classification with 1 feature**\n",
    " ![Classification with 1 feature](https://i.imgur.com/mTIxSYc.png)\n",
    "* **Classification with 2 features**\n",
    " ![Classification with 2 features](https://i.imgur.com/wEi8ren.png)\n",
    "\n",
    "---"
   ]
  },
  {
   "cell_type": "markdown",
   "metadata": {},
   "source": [
    "### 2. Unsupervised learning\n",
    "\n",
    "The algorithm is not trained with the right answers known. Instead, these algorithms look for patterns inherent in the structure of the data, without any features labled ahead of time. \n",
    "\n",
    "Unsupervised learning algorithms include:\n",
    "\n",
    "### Clustering\n",
    "\n",
    "Some implementations of clustering algorithms include organizing computing clusters, social network analysis, market segmentation, and astronomical data analysis.\n",
    "\n",
    "![Clustering](https://i.imgur.com/bwV8xdb.png)\n",
    "\n",
    "**Example:** Given a collection of 1,000,000 different genes, find a way to automatically group these genes into groups that are somehow similar or related by different variables, such as lifespan, location, role, etc.\n",
    "\n",
    "\n",
    "### Non-clustering\n",
    "\n",
    "Algorithms that allow you to find inherent structure in a chaotic environment.\n",
    "\n",
    "**Example:** Identify individual voices and music from a mesh of sounds at a cocktail party.\n",
    "\n",
    "---"
   ]
  },
  {
   "cell_type": "code",
   "execution_count": null,
   "metadata": {},
   "outputs": [],
   "source": []
  }
 ],
 "metadata": {
  "kernelspec": {
   "display_name": "Python 2",
   "language": "python",
   "name": "python2"
  },
  "language_info": {
   "codemirror_mode": {
    "name": "ipython",
    "version": 2
   },
   "file_extension": ".py",
   "mimetype": "text/x-python",
   "name": "python",
   "nbconvert_exporter": "python",
   "pygments_lexer": "ipython2",
   "version": "2.7.10"
  }
 },
 "nbformat": 4,
 "nbformat_minor": 2
}
